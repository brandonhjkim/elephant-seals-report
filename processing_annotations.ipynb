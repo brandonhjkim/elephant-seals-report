{
 "cells": [
  {
   "cell_type": "code",
   "execution_count": 2,
   "metadata": {},
   "outputs": [],
   "source": [
    "import json\n",
    "import pandas as pd\n",
    "import argparse"
   ]
  },
  {
   "cell_type": "code",
   "execution_count": 4,
   "metadata": {},
   "outputs": [],
   "source": [
    "def process_coco(json_file, output_csv):\n",
    "    with open(json_file, \"r\") as file:\n",
    "            data = json.load(file)\n",
    "\n",
    "    image_dict = {img[\"id\"]: img[\"file_name\"] for img in data[\"images\"]}\n",
    "\n",
    "    annotation_counts = {img[\"file_name\"]: {\"clump\": 0, \"seal\": 0} for img in data[\"images\"]}\n",
    "\n",
    "    category_mapping = {cat[\"id\"]: cat[\"name\"] for cat in data[\"categories\"]}\n",
    "\n",
    "    for annotation in data[\"annotations\"]:\n",
    "        image_name = image_dict[annotation[\"image_id\"]]\n",
    "        category_name = category_mapping[annotation[\"category_id\"]]\n",
    "\n",
    "        if category_name == \"clump\":\n",
    "            annotation_counts[image_name][\"clump\"] += 1\n",
    "        elif category_name == \"seals\":  \n",
    "            annotation_counts[image_name][\"seal\"] += 1\n",
    "\n",
    "    df = pd.DataFrame.from_dict(annotation_counts, orient=\"index\").reset_index()\n",
    "    df.columns = [\"image_name\", \"clump_annotations\", \"seal_annotations\"]\n",
    "\n",
    "    df.to_csv(output_csv, index=False)\n",
    "    print(f\"Annotation counts saved to {output_csv}\")"
   ]
  },
  {
   "cell_type": "code",
   "execution_count": null,
   "metadata": {},
   "outputs": [
    {
     "name": "stdout",
     "output_type": "stream",
     "text": [
      "Annotation counts saved to test_anno.csv\n"
     ]
    }
   ],
   "source": [
    "process_coco('annotations/test_annotations.coco.json', 'data/test_anno.csv')"
   ]
  },
  {
   "cell_type": "code",
   "execution_count": 6,
   "metadata": {},
   "outputs": [
    {
     "name": "stdout",
     "output_type": "stream",
     "text": [
      "Annotation counts saved to data/train_anno.csv\n"
     ]
    }
   ],
   "source": [
    "process_coco('annotations/train_annotations.coco.json', 'data/train_anno.csv')"
   ]
  },
  {
   "cell_type": "code",
   "execution_count": 7,
   "metadata": {},
   "outputs": [
    {
     "name": "stdout",
     "output_type": "stream",
     "text": [
      "Annotation counts saved to data/valid_anno.csv\n"
     ]
    }
   ],
   "source": [
    "process_coco('annotations/valid_annotations.coco.json', 'data/valid_anno.csv')"
   ]
  }
 ],
 "metadata": {
  "kernelspec": {
   "display_name": "Python 3",
   "language": "python",
   "name": "python3"
  },
  "language_info": {
   "codemirror_mode": {
    "name": "ipython",
    "version": 3
   },
   "file_extension": ".py",
   "mimetype": "text/x-python",
   "name": "python",
   "nbconvert_exporter": "python",
   "pygments_lexer": "ipython3",
   "version": "3.10.4"
  }
 },
 "nbformat": 4,
 "nbformat_minor": 2
}
